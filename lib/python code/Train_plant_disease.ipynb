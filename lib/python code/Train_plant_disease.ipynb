{
 "cells": [
  {
   "cell_type": "markdown",
   "id": "0304718e-1b42-447f-94a5-558f97163cc1",
   "metadata": {},
   "source": [
    "## Importing Libraries"
   ]
  },
  {
   "cell_type": "code",
   "execution_count": null,
   "id": "7dcf80d2-3800-4c13-b507-e222211146d8",
   "metadata": {},
   "outputs": [],
   "source": [
    "import tensorflow as tf\n",
    "import matplotlib.pyplot as plt\n",
    "import pandas as pd\n",
    "import seaborn as sns\n",
    "import numpy as np"
   ]
  },
  {
   "cell_type": "markdown",
   "id": "05705bfe-7f4d-4ad1-a291-1eb3e3648032",
   "metadata": {},
   "source": [
    "## Data Preprocessing"
   ]
  },
  {
   "cell_type": "markdown",
   "id": "39fcf062-f01f-4ab9-8106-4a5f9c816529",
   "metadata": {},
   "source": [
    "### Training Image Preprocessing"
   ]
  },
  {
   "cell_type": "code",
   "execution_count": null,
   "id": "aee98830-cc1b-49a5-823b-686053ffcccc",
   "metadata": {},
   "outputs": [],
   "source": [
    "training_set = tf.keras.utils.image_dataset_from_directory(\n",
    "    'train',\n",
    "    labels=\"inferred\",\n",
    "    label_mode=\"categorical\",\n",
    "    class_names=None,\n",
    "    color_mode=\"rgb\",\n",
    "    batch_size=32,\n",
    "    image_size=(128, 128),\n",
    "    shuffle=True,\n",
    "    seed=None,\n",
    "    validation_split=None,\n",
    "    subset=None,\n",
    "    interpolation=\"bilinear\",\n",
    "    follow_links=False,\n",
    "    crop_to_aspect_ratio=False,\n",
    "    pad_to_aspect_ratio=False,\n",
    "    verbose=True,\n",
    ")"
   ]
  },
  {
   "cell_type": "markdown",
   "id": "74cb2d31-fc6f-4bdf-8c0c-f69a2813c06b",
   "metadata": {},
   "source": [
    "### Validation Image Preprocessing"
   ]
  },
  {
   "cell_type": "code",
   "execution_count": null,
   "id": "a77265b1-64eb-4031-9c20-ab1718d0969e",
   "metadata": {},
   "outputs": [],
   "source": [
    "validation_set = tf.keras.utils.image_dataset_from_directory(\n",
    "    'valid',\n",
    "    labels=\"inferred\",\n",
    "    label_mode=\"categorical\",\n",
    "    class_names=None,\n",
    "    color_mode=\"rgb\",\n",
    "    batch_size=32,\n",
    "    image_size=(128, 128),\n",
    "    shuffle=True,\n",
    "    seed=None,\n",
    "    validation_split=None,\n",
    "    subset=None,\n",
    "    interpolation=\"bilinear\",\n",
    "    follow_links=False,\n",
    "    crop_to_aspect_ratio=False,\n",
    "    pad_to_aspect_ratio=False,\n",
    "    data_format=None,\n",
    "    verbose=True,\n",
    ")"
   ]
  },
  {
   "cell_type": "code",
   "execution_count": null,
   "id": "3600de22-e14e-4762-9900-ae0cfa011240",
   "metadata": {},
   "outputs": [],
   "source": [
    "training_set"
   ]
  },
  {
   "cell_type": "code",
   "execution_count": null,
   "id": "290fac6b-fb9e-4d0f-bde7-082065af1d5d",
   "metadata": {},
   "outputs": [],
   "source": [
    "for x,y in training_set:\n",
    "    #   x is training example, y is label\n",
    "    print(x,x.shape)\n",
    "    print(y,y.shape)\n",
    "    break"
   ]
  },
  {
   "cell_type": "markdown",
   "id": "a9632ef6-a079-407e-b753-5b53c6b6f13a",
   "metadata": {},
   "source": [
    "## Building Model"
   ]
  },
  {
   "cell_type": "code",
   "execution_count": null,
   "id": "55d18aa7-f79a-4943-b636-35aac9186883",
   "metadata": {},
   "outputs": [],
   "source": [
    "from tensorflow.keras.layers import Dense, Conv2D, MaxPool2D, Flatten, Dropout, InputLayer\n",
    "from tensorflow.keras.models import Sequential"
   ]
  },
  {
   "cell_type": "code",
   "execution_count": null,
   "id": "93d0f833-e573-401a-a726-f2813b7f86e7",
   "metadata": {},
   "outputs": [],
   "source": [
    "model = Sequential()"
   ]
  },
  {
   "cell_type": "markdown",
   "id": "f03bc116-5de1-480d-a98d-db7eeb9a992a",
   "metadata": {},
   "source": [
    "## Building Convolution Layer"
   ]
  },
  {
   "cell_type": "code",
   "execution_count": null,
   "id": "2795479c-99e9-4652-9c93-39ac73303a3c",
   "metadata": {},
   "outputs": [],
   "source": [
    "model.add(InputLayer(shape=(128, 128, 3)))"
   ]
  },
  {
   "cell_type": "code",
   "execution_count": null,
   "id": "f34119c5-480a-4098-ae84-e82664457a69",
   "metadata": {
    "scrolled": true
   },
   "outputs": [],
   "source": [
    "model.add(Conv2D(filters=32,kernel_size=3,padding='same', activation='relu'))\n",
    "model.add(Conv2D(filters=32,kernel_size=3, activation='relu'))\n",
    "model.add(MaxPool2D(pool_size=2,strides=2))"
   ]
  },
  {
   "cell_type": "code",
   "execution_count": null,
   "id": "00c18bb4-a14a-4a25-b687-ac9c49409826",
   "metadata": {},
   "outputs": [],
   "source": [
    "model.add(Conv2D(filters=64,kernel_size=3,padding='same', activation='relu'))\n",
    "model.add(Conv2D(filters=64,kernel_size=3, activation='relu'))\n",
    "model.add(MaxPool2D(pool_size=2,strides=2))"
   ]
  },
  {
   "cell_type": "code",
   "execution_count": null,
   "id": "9bce6af4-c445-47b5-a8b6-74b783a9c32e",
   "metadata": {},
   "outputs": [],
   "source": [
    "model.add(Conv2D(filters=128,kernel_size=3,padding='same', activation='relu'))\n",
    "model.add(Conv2D(filters=128,kernel_size=3, activation='relu'))\n",
    "model.add(MaxPool2D(pool_size=2,strides=2))"
   ]
  },
  {
   "cell_type": "code",
   "execution_count": null,
   "id": "fc7a23a5-2ad3-430a-a60c-4c128b3b7e91",
   "metadata": {},
   "outputs": [],
   "source": [
    "model.add(Conv2D(filters=256,kernel_size=3,padding='same', activation='relu'))\n",
    "model.add(Conv2D(filters=256,kernel_size=3, activation='relu'))\n",
    "model.add(MaxPool2D(pool_size=2,strides=2))"
   ]
  },
  {
   "cell_type": "code",
   "execution_count": null,
   "id": "d4d2cbfa-86d2-42d0-8039-0828063ffefd",
   "metadata": {},
   "outputs": [],
   "source": [
    "model.add(Conv2D(filters=512,kernel_size=3,padding='same', activation='relu'))\n",
    "model.add(Conv2D(filters=512,kernel_size=3, activation='relu'))\n",
    "model.add(MaxPool2D(pool_size=2,strides=2))"
   ]
  },
  {
   "cell_type": "code",
   "execution_count": null,
   "id": "42389aca-9f32-45fc-b5bc-c228a0f0f5e5",
   "metadata": {},
   "outputs": [],
   "source": [
    "model.add(Dropout(0.25))  # to avoid overfitting"
   ]
  },
  {
   "cell_type": "code",
   "execution_count": null,
   "id": "6ffc71b0-6be9-4713-a128-f2586f0cb421",
   "metadata": {},
   "outputs": [],
   "source": [
    "model.add(Flatten())"
   ]
  },
  {
   "cell_type": "code",
   "execution_count": null,
   "id": "0bcaaa2f-b617-4ea9-b1d3-868250c259a6",
   "metadata": {},
   "outputs": [],
   "source": [
    "model.add(Dense(1500,activation='relu'))"
   ]
  },
  {
   "cell_type": "code",
   "execution_count": null,
   "id": "8babacd2-5ebb-434f-9e94-2fc93d4ea318",
   "metadata": {},
   "outputs": [],
   "source": [
    "model.add(Dropout(0.4))"
   ]
  },
  {
   "cell_type": "code",
   "execution_count": null,
   "id": "aeaa19f6-2a6a-42e4-8a85-c79b432ac6ce",
   "metadata": {},
   "outputs": [],
   "source": [
    "# Output Layer\n",
    "model.add(Dense(38,activation='softmax'))"
   ]
  },
  {
   "cell_type": "markdown",
   "id": "2f7951d3-e507-4386-b69f-9ec3674f0e1b",
   "metadata": {},
   "source": [
    "## Compiling Model"
   ]
  },
  {
   "cell_type": "code",
   "execution_count": null,
   "id": "086507ad-f4d0-4c55-bad0-ad051701168f",
   "metadata": {},
   "outputs": [],
   "source": [
    "model.compile(optimizer=tf.keras.optimizers.Adam(learning_rate=0.001), loss='categorical_crossentropy',metrics=['accuracy'])"
   ]
  },
  {
   "cell_type": "code",
   "execution_count": null,
   "id": "7f950f45-1df5-4c1a-b718-8f58415520fe",
   "metadata": {},
   "outputs": [],
   "source": [
    "model.summary()"
   ]
  },
  {
   "cell_type": "markdown",
   "id": "652c6dbb-aa62-46cd-b5dd-9de9767c78d2",
   "metadata": {},
   "source": [
    "### Model Training"
   ]
  },
  {
   "cell_type": "code",
   "execution_count": null,
   "id": "3af040d1-c096-4e3c-88ad-936b2da8ee24",
   "metadata": {},
   "outputs": [],
   "source": [
    "training_history = model.fit(x=training_set, validation_data= validation_set, epochs=5)"
   ]
  },
  {
   "cell_type": "code",
   "execution_count": null,
   "id": "9f6c9dcf-09dc-46ea-a789-5bf746cca7e1",
   "metadata": {},
   "outputs": [],
   "source": []
  },
  {
   "cell_type": "markdown",
   "id": "e3e30abf-f736-4e84-abed-327ca35d1f98",
   "metadata": {},
   "source": [
    "### Model Evaluation"
   ]
  },
  {
   "cell_type": "code",
   "execution_count": null,
   "id": "15e9ca54-db64-4763-b468-a7a2e09af4ec",
   "metadata": {},
   "outputs": [],
   "source": [
    "#  Model evaluation on training set\n",
    "train_loss, train_acc = model.evaluate(training_set)"
   ]
  },
  {
   "cell_type": "code",
   "execution_count": null,
   "id": "6ffc83ae-5427-42f3-b6b9-ad14b819bce8",
   "metadata": {},
   "outputs": [],
   "source": [
    "print(train_loss, train_acc*100)"
   ]
  },
  {
   "cell_type": "code",
   "execution_count": null,
   "id": "67c07417-566c-446e-a3e1-e99d73aab30b",
   "metadata": {},
   "outputs": [],
   "source": [
    "# Model evaluation on Validation Set\n",
    "val_loss, val_acc = model.evaluate(validation_set)"
   ]
  },
  {
   "cell_type": "code",
   "execution_count": null,
   "id": "b2805778-475a-4fe8-9eb0-00dea4ac9fd1",
   "metadata": {},
   "outputs": [],
   "source": [
    "print(val_loss, val_acc*100)"
   ]
  },
  {
   "cell_type": "markdown",
   "id": "3956cb3e-4288-4dc0-b408-7537a230b9e2",
   "metadata": {},
   "source": [
    "### Saving Model"
   ]
  },
  {
   "cell_type": "code",
   "execution_count": null,
   "id": "e873d025-4022-4145-9415-9dd71a14d135",
   "metadata": {},
   "outputs": [],
   "source": [
    "# model.save('trained_model2.keras')"
   ]
  },
  {
   "cell_type": "code",
   "execution_count": null,
   "id": "23b9b4cd-82f4-4f7b-88fe-dae9154b6ace",
   "metadata": {},
   "outputs": [],
   "source": [
    "export_archive = keras.export.ExportArchive()\n",
    "export_archive.track(model)\n",
    "export_archive.write_out(\"plant_model\")"
   ]
  },
  {
   "cell_type": "code",
   "execution_count": null,
   "id": "f8cb8b27-f8da-430b-8cb3-449b1d322c31",
   "metadata": {},
   "outputs": [],
   "source": [
    "converter = tf.lite.TFLiteConverter.from_saved_model(\"plant_model\")\n",
    "tflite_model = converter.convert()"
   ]
  },
  {
   "cell_type": "code",
   "execution_count": null,
   "id": "d64c9d44-79f6-41b1-9bc5-2e96c22a308d",
   "metadata": {},
   "outputs": [],
   "source": [
    "training_history.history"
   ]
  },
  {
   "cell_type": "code",
   "execution_count": null,
   "id": "d08f3c4f-2663-4254-a1fd-d8a0f6e2f99f",
   "metadata": {},
   "outputs": [],
   "source": [
    "epochs = [i for i in range(1, 6)]\n",
    "plt.plot(epochs, training_history.history['accuracy'], color='red', label='training_accuracy')\n",
    "plt.plot(epochs, training_history.history['val_accuracy'], color='blue', label='validation_accuracy')\n",
    "plt.xlabel(\"no. of epochs\")\n",
    "plt.ylabel(\"accuracy results\")\n",
    "plt.title(\"visualization of accuracy result\")\n",
    "plt.legend()\n",
    "plt.show()"
   ]
  },
  {
   "cell_type": "code",
   "execution_count": null,
   "id": "7984cdcb-c759-456c-955c-af98b6d66e09",
   "metadata": {},
   "outputs": [],
   "source": []
  },
  {
   "cell_type": "code",
   "execution_count": null,
   "id": "fc6ce8a4-7743-4cad-859f-f0f846a76909",
   "metadata": {},
   "outputs": [],
   "source": []
  },
  {
   "cell_type": "code",
   "execution_count": null,
   "id": "5ea50c0c-42d7-41cb-860e-da95229a182c",
   "metadata": {},
   "outputs": [],
   "source": [
    "keras_model = tf.keras.models.load_model(\"trained_model1.keras\")"
   ]
  },
  {
   "cell_type": "code",
   "execution_count": null,
   "id": "2f875bd8-6187-4021-8881-02527fe16ccd",
   "metadata": {},
   "outputs": [],
   "source": [
    "converter = tf.lite.TFLiteConverter.from_keras_model(keras_model)\n",
    "tflite_model = converter.convert()\n"
   ]
  },
  {
   "cell_type": "code",
   "execution_count": null,
   "id": "0070dec9-02c9-419a-b77e-d67a389f4df4",
   "metadata": {},
   "outputs": [],
   "source": [
    "# import tensorflow as tf\n",
    "\n",
    "# # Load the saved model\n",
    "# loaded_model = tf.keras.models.load_model('trained_model.keras')\n",
    "\n",
    "# # Convert the model to TensorFlow Lite format\n",
    "# converter = tf.lite.TFLiteConverter.from_keras_model(loaded_model)\n",
    "# tflite_model = converter.convert()\n",
    "\n",
    "# # Save the TensorFlow Lite model to a file\n",
    "# with open('plant_model.tflite', 'wb') as f:\n",
    "#     f.write(tflite_model)\n",
    "\n",
    "# print(\"Model converted successfully to TensorFlow Lite format!\")\n"
   ]
  },
  {
   "cell_type": "code",
   "execution_count": null,
   "id": "fbb942f4-06a5-4f3c-9296-28716327d5ab",
   "metadata": {},
   "outputs": [],
   "source": [
    "with open(\"converted_model.tflite\", \"wb\") as f:\n",
    "    f.write(tflite_model)"
   ]
  },
  {
   "cell_type": "code",
   "execution_count": null,
   "id": "f94ed008-4cd3-4302-a084-d67afe79fd9a",
   "metadata": {},
   "outputs": [],
   "source": []
  }
 ],
 "metadata": {
  "kernelspec": {
   "display_name": "Python 3 (ipykernel)",
   "language": "python",
   "name": "python3"
  },
  "language_info": {
   "codemirror_mode": {
    "name": "ipython",
    "version": 3
   },
   "file_extension": ".py",
   "mimetype": "text/x-python",
   "name": "python",
   "nbconvert_exporter": "python",
   "pygments_lexer": "ipython3",
   "version": "3.11.3"
  }
 },
 "nbformat": 4,
 "nbformat_minor": 5
}
